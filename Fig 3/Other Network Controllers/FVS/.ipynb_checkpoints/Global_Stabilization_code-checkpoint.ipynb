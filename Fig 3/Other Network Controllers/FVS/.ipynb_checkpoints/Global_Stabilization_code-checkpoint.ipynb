{
 "cells": [
  {
   "cell_type": "code",
   "execution_count": 2,
   "id": "2558cb27",
   "metadata": {},
   "outputs": [
    {
     "name": "stdout",
     "output_type": "stream",
     "text": [
      "Collecting sympy\n",
      "  Downloading sympy-1.10.1-py3-none-any.whl (6.4 MB)\n",
      "\u001b[2K     \u001b[90m━━━━━━━━━━━━━━━━━━━━━━━━━━━━━━━━━━━━━━━━\u001b[0m \u001b[32m6.4/6.4 MB\u001b[0m \u001b[31m12.5 MB/s\u001b[0m eta \u001b[36m0:00:00\u001b[0m00:01\u001b[0m00:01\u001b[0m\n",
      "\u001b[?25hCollecting mpmath>=0.19\n",
      "  Downloading mpmath-1.3.0-py3-none-any.whl (536 kB)\n",
      "\u001b[2K     \u001b[90m━━━━━━━━━━━━━━━━━━━━━━━━━━━━━━━━━━━━━━\u001b[0m \u001b[32m536.2/536.2 kB\u001b[0m \u001b[31m10.2 MB/s\u001b[0m eta \u001b[36m0:00:00\u001b[0ma \u001b[36m0:00:01\u001b[0m\n",
      "\u001b[?25hInstalling collected packages: mpmath, sympy\n",
      "Successfully installed mpmath-1.3.0 sympy-1.10.1\n"
     ]
    }
   ],
   "source": [
    "!pip install sympy"
   ]
  },
  {
   "cell_type": "code",
   "execution_count": 4,
   "id": "ff9905aa",
   "metadata": {
    "scrolled": true
   },
   "outputs": [
    {
     "name": "stdout",
     "output_type": "stream",
     "text": [
      "Collecting tqdm\n",
      "  Downloading tqdm-4.67.1-py3-none-any.whl (78 kB)\n",
      "\u001b[2K     \u001b[90m━━━━━━━━━━━━━━━━━━━━━━━━━━━━━━━━━━━━━━━━\u001b[0m \u001b[32m78.5/78.5 kB\u001b[0m \u001b[31m6.0 MB/s\u001b[0m eta \u001b[36m0:00:00\u001b[0m\n",
      "\u001b[?25hInstalling collected packages: tqdm\n",
      "Successfully installed tqdm-4.67.1\n"
     ]
    }
   ],
   "source": [
    "!pip install tqdm"
   ]
  },
  {
   "cell_type": "code",
   "execution_count": 20,
   "id": "b6d612e4",
   "metadata": {},
   "outputs": [
    {
     "name": "stdout",
     "output_type": "stream",
     "text": [
      "Collecting cana\n",
      "  Downloading cana-1.0.0.tar.gz (555 kB)\n",
      "\u001b[2K     \u001b[90m━━━━━━━━━━━━━━━━━━━━━━━━━━━━━━━━━━━━━━\u001b[0m \u001b[32m555.4/555.4 kB\u001b[0m \u001b[31m18.8 MB/s\u001b[0m eta \u001b[36m0:00:00\u001b[0m\n",
      "\u001b[?25h  Installing build dependencies ... \u001b[?25ldone\n",
      "\u001b[?25h  Getting requirements to build wheel ... \u001b[?25ldone\n",
      "\u001b[?25h  Preparing metadata (pyproject.toml) ... \u001b[?25ldone\n",
      "\u001b[?25hRequirement already satisfied: scipy in /home/shjang/anaconda3/envs/iqcell/lib/python3.7/site-packages (from cana) (1.7.3)\n",
      "Requirement already satisfied: networkx in /home/shjang/anaconda3/envs/iqcell/lib/python3.7/site-packages (from cana) (2.3)\n",
      "Requirement already satisfied: pandas in /home/shjang/anaconda3/envs/iqcell/lib/python3.7/site-packages (from cana) (1.3.5)\n",
      "Collecting schematodes>=1.0.0\n",
      "  Downloading schematodes-1.0.0-cp37-cp37m-manylinux_2_17_x86_64.manylinux2014_x86_64.whl (1.1 MB)\n",
      "\u001b[2K     \u001b[90m━━━━━━━━━━━━━━━━━━━━━━━━━━━━━━━━━━━━━━━━\u001b[0m \u001b[32m1.1/1.1 MB\u001b[0m \u001b[31m62.4 MB/s\u001b[0m eta \u001b[36m0:00:00\u001b[0m\n",
      "\u001b[?25hRequirement already satisfied: numpy in /home/shjang/anaconda3/envs/iqcell/lib/python3.7/site-packages (from cana) (1.21.6)\n",
      "Requirement already satisfied: matplotlib in /home/shjang/anaconda3/envs/iqcell/lib/python3.7/site-packages (from cana) (3.5.3)\n",
      "Requirement already satisfied: fonttools>=4.22.0 in /home/shjang/anaconda3/envs/iqcell/lib/python3.7/site-packages (from matplotlib->cana) (4.38.0)\n",
      "Requirement already satisfied: pyparsing>=2.2.1 in /home/shjang/anaconda3/envs/iqcell/lib/python3.7/site-packages (from matplotlib->cana) (3.0.9)\n",
      "Requirement already satisfied: packaging>=20.0 in /home/shjang/anaconda3/envs/iqcell/lib/python3.7/site-packages (from matplotlib->cana) (23.1)\n",
      "Requirement already satisfied: cycler>=0.10 in /home/shjang/anaconda3/envs/iqcell/lib/python3.7/site-packages (from matplotlib->cana) (0.11.0)\n",
      "Requirement already satisfied: kiwisolver>=1.0.1 in /home/shjang/anaconda3/envs/iqcell/lib/python3.7/site-packages (from matplotlib->cana) (1.4.4)\n",
      "Requirement already satisfied: python-dateutil>=2.7 in /home/shjang/anaconda3/envs/iqcell/lib/python3.7/site-packages (from matplotlib->cana) (2.8.2)\n",
      "Requirement already satisfied: pillow>=6.2.0 in /home/shjang/anaconda3/envs/iqcell/lib/python3.7/site-packages (from matplotlib->cana) (9.5.0)\n",
      "Requirement already satisfied: decorator>=4.3.0 in /home/shjang/anaconda3/envs/iqcell/lib/python3.7/site-packages (from networkx->cana) (5.1.1)\n",
      "Requirement already satisfied: pytz>=2017.3 in /home/shjang/anaconda3/envs/iqcell/lib/python3.7/site-packages (from pandas->cana) (2023.3)\n",
      "Requirement already satisfied: typing-extensions in /home/shjang/anaconda3/envs/iqcell/lib/python3.7/site-packages (from kiwisolver>=1.0.1->matplotlib->cana) (4.6.3)\n",
      "Requirement already satisfied: six>=1.5 in /home/shjang/anaconda3/envs/iqcell/lib/python3.7/site-packages (from python-dateutil>=2.7->matplotlib->cana) (1.16.0)\n",
      "Building wheels for collected packages: cana\n",
      "  Building wheel for cana (pyproject.toml) ... \u001b[?25ldone\n",
      "\u001b[?25h  Created wheel for cana: filename=cana-1.0.0-cp37-cp37m-linux_x86_64.whl size=1018151 sha256=b6c2b06afa05289374aaa728af229f46478243bfcd2b75ad467e5a0928866052\n",
      "  Stored in directory: /home/shjang/.cache/pip/wheels/fc/46/f0/4fecc11e986376bf7d835306116d3f11887e6a7ac69152425b\n",
      "Successfully built cana\n",
      "Installing collected packages: schematodes, cana\n",
      "Successfully installed cana-1.0.0 schematodes-1.0.0\n"
     ]
    }
   ],
   "source": [
    "!pip install cana"
   ]
  },
  {
   "cell_type": "code",
   "execution_count": 8,
   "id": "676759fb",
   "metadata": {},
   "outputs": [
    {
     "name": "stderr",
     "output_type": "stream",
     "text": [
      "100%|██████████████████████████████████████████| 23/23 [00:00<00:00, 602.15it/s]"
     ]
    },
    {
     "name": "stdout",
     "output_type": "stream",
     "text": [
      "GATA3 = Tbet | (GATA3 & STAT6)\n",
      "IFNb = IFNb\n",
      "IFNbR = IFNb\n",
      "IFNg = (IRAK & STAT3) | (NFAT & STAT3) | (STAT3 & STAT4) | (STAT3 & Tbet)\n",
      "IFNgR = IFNg\n",
      "IL10 = GATA3\n",
      "IL10R = IL10\n",
      "IL12 = IL12\n",
      "IL12R = IL12\n",
      "IL18 = IL18\n",
      "IL18R = IL18 & STAT6\n",
      "IL4 = GATA3 | STAT1\n",
      "IL4R = IL4 | SOCS1\n",
      "IRAK = IL18R\n",
      "JAK1 = SOCS1 | ~IFNgR\n",
      "NFAT = TCR\n",
      "SOCS1 = STAT1 | Tbet\n",
      "STAT1 = IFNbR | ~JAK1\n",
      "STAT3 = IL10R\n",
      "STAT4 = GATA3 & IL12R\n",
      "STAT6 = IL4R\n",
      "TCR = TCR\n",
      "Tbet = (GATA3 & STAT1) | (GATA3 & Tbet)\n",
      ".txt files with the reduced network is saved.\n",
      "Total time for reducing the network: 0.04523873329162598 sec\n",
      "Complete!\n",
      "0.0454404354095459\n"
     ]
    },
    {
     "name": "stderr",
     "output_type": "stream",
     "text": [
      "\n"
     ]
    }
   ],
   "source": [
    "import BNSimpleReduction as BNred\n",
    "import time\n",
    "\n",
    "\n",
    "\n",
    "\n",
    "startTime = time.time()\n",
    "# BNred.main(Parameter_1, Parameter_2)\n",
    "# Parameter_1: Boolean network file\n",
    "# Parameter_2: Desired fixed point attractor (steady state) in the network\n",
    "BNred.main(\"./networks/t_cell.txt\", \"01111001111001011101011\")\n",
    "endTime = time.time() - startTime\n",
    "print(endTime)\n"
   ]
  },
  {
   "cell_type": "markdown",
   "id": "d2c6f8ff",
   "metadata": {},
   "source": [
    "When you run the code BNred.main(\"./networks/t_cell.txt\", \"01111001111001011101010\"), \n",
    "\n",
    "a folder named results/t_cell_01111001111001011101010 is created, \n",
    "\n",
    "and inside it, a file called OnePlusProductNet.txt is generated."
   ]
  },
  {
   "cell_type": "code",
   "execution_count": 37,
   "id": "00336d2f",
   "metadata": {},
   "outputs": [],
   "source": [
    "with open(\"./results/t_cell_01111001111001011101011/OnePlusProductNet.txt\", \"r\") as f:\n",
    "    modeltext2 = f.read()"
   ]
  },
  {
   "cell_type": "code",
   "execution_count": 38,
   "id": "19647ca4",
   "metadata": {},
   "outputs": [
    {
     "data": {
      "text/plain": [
       "'GATA3 = Tbet\\nIFNb = IFNb\\nIFNbR = IFNb\\nIFNg = (IRAK & STAT3)\\nIFNgR = IFNg\\nIL10 = GATA3\\nIL10R = IL10\\nIL12 = IL12\\nIL12R = IL12\\nIL18 = IL18\\nIL18R = IL18 & STAT6\\nIL4 = GATA3\\nIL4R = IL4\\nIRAK = IL18R\\nJAK1 = SOCS1\\nNFAT = TCR\\nSOCS1 = STAT1\\nSTAT1 = IFNbR\\nSTAT3 = IL10R\\nSTAT4 = GATA3 & IL12R\\nSTAT6 = IL4R\\nTCR = TCR\\nTbet = (GATA3 & STAT1)'"
      ]
     },
     "execution_count": 38,
     "metadata": {},
     "output_type": "execute_result"
    }
   ],
   "source": [
    "modeltext2"
   ]
  },
  {
   "cell_type": "code",
   "execution_count": 39,
   "id": "45c0e838",
   "metadata": {},
   "outputs": [],
   "source": [
    "modeltext2 = modeltext2.replace(\"=\", \"*=\").replace(\" & \", \" and \").replace(\" | \", \" or \").replace(\"~ \", \"not \")\n",
    "modeltext2 = modeltext2.strip()"
   ]
  },
  {
   "cell_type": "code",
   "execution_count": 40,
   "id": "427671cd",
   "metadata": {},
   "outputs": [],
   "source": [
    "import cana\n",
    "import time\n",
    "import networkx as nx\n",
    "import matplotlib.pyplot as plt\n",
    "from cana.datasets.bio import THALIANA\n"
   ]
  },
  {
   "cell_type": "code",
   "execution_count": 41,
   "id": "ff247ff2",
   "metadata": {},
   "outputs": [
    {
     "name": "stdout",
     "output_type": "stream",
     "text": [
      "[['GATA3', 'IFNb', 'IL12', 'IL18', 'TCR'], ['IFNb', 'IL12', 'IL18', 'TCR', 'Tbet']]\n"
     ]
    }
   ],
   "source": [
    "\n",
    "startTime = time.time()\n",
    "examNet = cana.boolean_network.BooleanNetwork.from_string_boolean(modeltext2)\n",
    "#print(examNet)\n",
    "\n",
    "# Mapping nodes\n",
    "mappindDic = {}\n",
    "for node in examNet.nodes:\n",
    "    mappindDic[node.id] = node.name\n",
    "#print(mappindDic)\n",
    "\n",
    "\n",
    "\n",
    "# FVSs\n",
    "FVS_bruteforce = examNet.feedback_vertex_set_driver_nodes(graph='structural', method='bruteforce', max_search=10, keep_self_loops=True) # brutuforce\n",
    "#print(FVS_bruteforce)\n",
    "FVS_listList = []\n",
    "for FVS in FVS_bruteforce:\n",
    "    FVS_list = []\n",
    "    for node in FVS:\n",
    "        FVS_list.append(mappindDic[node])\n",
    "    FVS_listList.append(FVS_list)\n",
    "print(FVS_listList)\n",
    "endTime = time.time() - startTime\n",
    "#print(endTime)"
   ]
  },
  {
   "cell_type": "code",
   "execution_count": null,
   "id": "c0bf7ec5",
   "metadata": {},
   "outputs": [],
   "source": []
  },
  {
   "cell_type": "code",
   "execution_count": null,
   "id": "7d3d5fa8",
   "metadata": {},
   "outputs": [],
   "source": []
  },
  {
   "cell_type": "code",
   "execution_count": 62,
   "id": "3620afdb",
   "metadata": {},
   "outputs": [
    {
     "ename": "ValueError",
     "evalue": "invalid literal for int() with base 10: ' '",
     "output_type": "error",
     "traceback": [
      "\u001b[0;31m---------------------------------------------------------------------------\u001b[0m",
      "\u001b[0;31mValueError\u001b[0m                                Traceback (most recent call last)",
      "\u001b[0;32m/tmp/ipykernel_394656/2427036982.py\u001b[0m in \u001b[0;36m<module>\u001b[0;34m\u001b[0m\n\u001b[1;32m      3\u001b[0m \u001b[0;31m# Parameter_1: Boolean network file\u001b[0m\u001b[0;34m\u001b[0m\u001b[0;34m\u001b[0m\u001b[0;34m\u001b[0m\u001b[0m\n\u001b[1;32m      4\u001b[0m \u001b[0;31m# Parameter_2: Desired fixed point attractor (steady state) in the network\u001b[0m\u001b[0;34m\u001b[0m\u001b[0;34m\u001b[0m\u001b[0;34m\u001b[0m\u001b[0m\n\u001b[0;32m----> 5\u001b[0;31m \u001b[0mBNred\u001b[0m\u001b[0;34m.\u001b[0m\u001b[0mmain\u001b[0m\u001b[0;34m(\u001b[0m\u001b[0;34m\"./networks/network_tmp2.txt\"\u001b[0m\u001b[0;34m,\u001b[0m \u001b[0;34m\"01100010000010010000000000000000100000 0000000011010\"\u001b[0m\u001b[0;34m)\u001b[0m\u001b[0;34m\u001b[0m\u001b[0;34m\u001b[0m\u001b[0m\n\u001b[0m\u001b[1;32m      6\u001b[0m \u001b[0mendTime\u001b[0m \u001b[0;34m=\u001b[0m \u001b[0mtime\u001b[0m\u001b[0;34m.\u001b[0m\u001b[0mtime\u001b[0m\u001b[0;34m(\u001b[0m\u001b[0;34m)\u001b[0m \u001b[0;34m-\u001b[0m \u001b[0mstartTime\u001b[0m\u001b[0;34m\u001b[0m\u001b[0;34m\u001b[0m\u001b[0m\n\u001b[1;32m      7\u001b[0m \u001b[0mprint\u001b[0m\u001b[0;34m(\u001b[0m\u001b[0mendTime\u001b[0m\u001b[0;34m)\u001b[0m\u001b[0;34m\u001b[0m\u001b[0;34m\u001b[0m\u001b[0m\n",
      "\u001b[0;32m~/05.Adding_Edge_Control/insoo_revisiotn/BNSimpleReduction/BNSimpleReduction.py\u001b[0m in \u001b[0;36mmain\u001b[0;34m(path, desiredAttr)\u001b[0m\n\u001b[1;32m     20\u001b[0m \u001b[0;34m\u001b[0m\u001b[0m\n\u001b[1;32m     21\u001b[0m     \u001b[0;31m# Get the all plus products network\u001b[0m\u001b[0;34m\u001b[0m\u001b[0;34m\u001b[0m\u001b[0;34m\u001b[0m\u001b[0m\n\u001b[0;32m---> 22\u001b[0;31m     \u001b[0mformatTransformAllPlus\u001b[0m\u001b[0;34m,\u001b[0m \u001b[0mformatFVS_traAllPlus\u001b[0m\u001b[0;34m,\u001b[0m \u001b[0mformatFVS_ori\u001b[0m \u001b[0;34m=\u001b[0m \u001b[0mallPlusProducts\u001b[0m\u001b[0;34m.\u001b[0m\u001b[0mmain\u001b[0m\u001b[0;34m(\u001b[0m\u001b[0mformatNormal\u001b[0m\u001b[0;34m,\u001b[0m \u001b[0mdesiredAttr\u001b[0m\u001b[0;34m)\u001b[0m\u001b[0;34m\u001b[0m\u001b[0;34m\u001b[0m\u001b[0m\n\u001b[0m\u001b[1;32m     23\u001b[0m \u001b[0;34m\u001b[0m\u001b[0m\n\u001b[1;32m     24\u001b[0m     \u001b[0;31m# Get the all one products network\u001b[0m\u001b[0;34m\u001b[0m\u001b[0;34m\u001b[0m\u001b[0;34m\u001b[0m\u001b[0m\n",
      "\u001b[0;32m~/05.Adding_Edge_Control/insoo_revisiotn/BNSimpleReduction/allPlusProducts.py\u001b[0m in \u001b[0;36mmain\u001b[0;34m(modeltext, desiredAttr)\u001b[0m\n\u001b[1;32m     70\u001b[0m     \u001b[0;32mfor\u001b[0m \u001b[0mline\u001b[0m \u001b[0;32min\u001b[0m \u001b[0mmodeltextLine\u001b[0m\u001b[0;34m:\u001b[0m\u001b[0;34m\u001b[0m\u001b[0;34m\u001b[0m\u001b[0m\n\u001b[1;32m     71\u001b[0m         \u001b[0mIODic\u001b[0m \u001b[0;34m=\u001b[0m \u001b[0mline\u001b[0m\u001b[0;34m.\u001b[0m\u001b[0msplit\u001b[0m\u001b[0;34m(\u001b[0m\u001b[0;34m\"=\"\u001b[0m\u001b[0;34m)\u001b[0m\u001b[0;34m\u001b[0m\u001b[0;34m\u001b[0m\u001b[0m\n\u001b[0;32m---> 72\u001b[0;31m         \u001b[0mdesiredAttrDic\u001b[0m\u001b[0;34m[\u001b[0m\u001b[0mIODic\u001b[0m\u001b[0;34m[\u001b[0m\u001b[0;36m0\u001b[0m\u001b[0;34m]\u001b[0m\u001b[0;34m.\u001b[0m\u001b[0mstrip\u001b[0m\u001b[0;34m(\u001b[0m\u001b[0;34m)\u001b[0m\u001b[0;34m]\u001b[0m \u001b[0;34m=\u001b[0m \u001b[0mstr\u001b[0m\u001b[0;34m(\u001b[0m\u001b[0mbool\u001b[0m\u001b[0;34m(\u001b[0m\u001b[0mint\u001b[0m\u001b[0;34m(\u001b[0m\u001b[0mdesiredAttr\u001b[0m\u001b[0;34m[\u001b[0m\u001b[0ms\u001b[0m\u001b[0;34m]\u001b[0m\u001b[0;34m)\u001b[0m\u001b[0;34m)\u001b[0m\u001b[0;34m)\u001b[0m\u001b[0;34m\u001b[0m\u001b[0;34m\u001b[0m\u001b[0m\n\u001b[0m\u001b[1;32m     73\u001b[0m         \u001b[0ms\u001b[0m \u001b[0;34m=\u001b[0m \u001b[0ms\u001b[0m \u001b[0;34m+\u001b[0m \u001b[0;36m1\u001b[0m\u001b[0;34m\u001b[0m\u001b[0;34m\u001b[0m\u001b[0m\n\u001b[1;32m     74\u001b[0m \u001b[0;34m\u001b[0m\u001b[0m\n",
      "\u001b[0;31mValueError\u001b[0m: invalid literal for int() with base 10: ' '"
     ]
    }
   ],
   "source": [
    "\n",
    "startTime = time.time()\n",
    "# BNred.main(Parameter_1, Parameter_2)\n",
    "# Parameter_1: Boolean network file\n",
    "# Parameter_2: Desired fixed point attractor (steady state) in the network\n",
    "BNred.main(\"./networks/network_tmp2.txt\", \"011000100000100100000000000000001000000000000011010\")\n",
    "endTime = time.time() - startTime\n",
    "print(endTime)\n"
   ]
  },
  {
   "cell_type": "code",
   "execution_count": 52,
   "id": "5c537c16",
   "metadata": {},
   "outputs": [],
   "source": [
    "with open(\"./results/t_cell2_01111001111001011101011/OnePlusProductNet.txt\", \"r\") as f:\n",
    "    modeltext3 = f.read()"
   ]
  },
  {
   "cell_type": "code",
   "execution_count": 44,
   "id": "fd4d4aeb",
   "metadata": {},
   "outputs": [],
   "source": [
    "modeltext3 = modeltext3.replace(\"=\", \"*=\").replace(\" & \", \" and \").replace(\" | \", \" or \").replace(\"~ \", \"not \")\n",
    "modeltext3 = modeltext3.strip()"
   ]
  },
  {
   "cell_type": "code",
   "execution_count": 45,
   "id": "83e72a91",
   "metadata": {},
   "outputs": [
    {
     "data": {
      "text/plain": [
       "'GATA3 *= True\\nIFNb *= IFNb\\nIFNbR *= IFNb\\nIFNg *= (IRAK and STAT3)\\nIFNgR *= IFNg\\nIL10 *= GATA3\\nIL10R *= IL10\\nIL12 *= IL12\\nIL12R *= IL12\\nIL18 *= IL18\\nIL18R *= IL18 and STAT6\\nIL4 *= GATA3\\nIL4R *= IL4\\nIRAK *= IL18R\\nJAK1 *= SOCS1\\nNFAT *= TCR\\nSOCS1 *= STAT1\\nSTAT1 *= IFNbR\\nSTAT3 *= IL10R\\nSTAT4 *= GATA3 and IL12R\\nSTAT6 *= IL4R\\nTCR *= TCR\\nTbet *= (GATA3 and STAT1)'"
      ]
     },
     "execution_count": 45,
     "metadata": {},
     "output_type": "execute_result"
    }
   ],
   "source": [
    "modeltext3"
   ]
  },
  {
   "cell_type": "code",
   "execution_count": 46,
   "id": "9ca4e8ee",
   "metadata": {},
   "outputs": [
    {
     "name": "stdout",
     "output_type": "stream",
     "text": [
      "[['GATA3', 'IFNb', 'IL12', 'IL18', 'TCR']]\n"
     ]
    }
   ],
   "source": [
    "\n",
    "startTime = time.time()\n",
    "examNet = cana.boolean_network.BooleanNetwork.from_string_boolean(modeltext3)\n",
    "#print(examNet)\n",
    "\n",
    "# Mapping nodes\n",
    "mappindDic = {}\n",
    "for node in examNet.nodes:\n",
    "    mappindDic[node.id] = node.name\n",
    "#print(mappindDic)\n",
    "\n",
    "\n",
    "\n",
    "# FVSs\n",
    "FVS_bruteforce = examNet.feedback_vertex_set_driver_nodes(graph='structural', method='bruteforce', max_search=10, keep_self_loops=True) # brutuforce\n",
    "#print(FVS_bruteforce)\n",
    "FVS_listList = []\n",
    "for FVS in FVS_bruteforce:\n",
    "    FVS_list = []\n",
    "    for node in FVS:\n",
    "        FVS_list.append(mappindDic[node])\n",
    "    FVS_listList.append(FVS_list)\n",
    "print(FVS_listList)\n",
    "endTime = time.time() - startTime\n",
    "#print(endTime)"
   ]
  },
  {
   "cell_type": "code",
   "execution_count": null,
   "id": "13bf2501",
   "metadata": {},
   "outputs": [],
   "source": [
    "#10110001000001001000000000000000010000010000000011010\n",
    "\n"
   ]
  }
 ],
 "metadata": {
  "kernelspec": {
   "display_name": "Python 3 (ipykernel)",
   "language": "python",
   "name": "python3"
  },
  "language_info": {
   "codemirror_mode": {
    "name": "ipython",
    "version": 3
   },
   "file_extension": ".py",
   "mimetype": "text/x-python",
   "name": "python",
   "nbconvert_exporter": "python",
   "pygments_lexer": "ipython3",
   "version": "3.7.3"
  }
 },
 "nbformat": 4,
 "nbformat_minor": 5
}
