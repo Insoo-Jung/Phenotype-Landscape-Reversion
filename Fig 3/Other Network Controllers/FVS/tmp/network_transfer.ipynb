{
 "cells": [
  {
   "cell_type": "code",
   "execution_count": 5,
   "id": "12e3d5dd",
   "metadata": {},
   "outputs": [],
   "source": [
    "import re\n",
    "import os"
   ]
  },
  {
   "cell_type": "code",
   "execution_count": 7,
   "id": "71012205",
   "metadata": {},
   "outputs": [],
   "source": [
    "\n",
    "def sanitize_node_name(name):\n",
    "    name = re.sub(r'\\bor\\b', 'ox', name)\n",
    "    name = re.sub(r'\\band\\b', 'anx', name)\n",
    "    name = re.sub(r'\\bnot\\b', 'nox', name)\n",
    "    return name\n",
    "\n",
    "# 1. 노드 이름만 먼저 바꾸기\n",
    "def replace_node_names(expr):\n",
    "    return re.sub(r'\\b\\w+\\b', lambda m: sanitize_node_name(m.group()), expr)\n",
    "\n",
    "# 2. 그 다음 논리 연산자 바꾸기\n",
    "def convert_logic(line):\n",
    "    if ',' not in line:\n",
    "        return None\n",
    "    target, expr = line.split(',', 1)\n",
    "    target = sanitize_node_name(target.strip())\n",
    "    expr = expr.strip()\n",
    "    \n",
    "    # 1단계: 노드 이름 변환\n",
    "    expr = replace_node_names(expr)\n",
    "    \n",
    "    # 2단계: 연산자 변환\n",
    "    expr = expr.replace('&', 'and').replace('|', 'or').replace('!', 'not')\n",
    "    \n",
    "    return f\"{target} = {expr}\"\n"
   ]
  },
  {
   "cell_type": "code",
   "execution_count": 13,
   "id": "8f0379fa",
   "metadata": {},
   "outputs": [],
   "source": [
    "input_folder = \"/home/shjang/05.Adding_Edge_Control/insoo_revisiotn/insoo/network_insoo/network_insoo/original/\"  \n",
    "output_folder = \"/home/shjang/05.Adding_Edge_Control/insoo_revisiotn/insoo/network_insoo/network_insoo/converted/\"  "
   ]
  },
  {
   "cell_type": "code",
   "execution_count": 14,
   "id": "2f1e56dc",
   "metadata": {},
   "outputs": [
    {
     "name": "stdout",
     "output_type": "stream",
     "text": [
      "[완료] HH_Drosophilia.txt → HH_Drosophilia_converted.txt\n",
      "[완료] Stomatal_Opening_model.txt → Stomatal_Opening_model_converted.txt\n",
      "[완료] Iron_acquisition_oxidative_stress_aspregillus.txt → Iron_acquisition_oxidative_stress_aspregillus_converted.txt\n",
      "[완료] Borezomib_Responses_U266_Humanmyeloma.txt → Borezomib_Responses_U266_Humanmyeloma_converted.txt\n",
      "[완료] Septation_inhibation_network.txt → Septation_inhibation_network_converted.txt\n",
      "[완료] Apoptosis_logic_Boolnet.txt → Apoptosis_logic_Boolnet_converted.txt\n",
      "[완료] Bortezomib.txt → Bortezomib_converted.txt\n",
      "[완료] PC12_DIFFERENTIATION.txt → PC12_DIFFERENTIATION_converted.txt\n",
      "[완료] Cohen_BN_logic.txt → Cohen_BN_logic_converted.txt\n",
      "[완료] TOL_regulatory_network.txt → TOL_regulatory_network_converted.txt\n",
      "[완료] ERBB_logic.txt → ERBB_logic_converted.txt\n",
      "[완료] PC12_Boolnet_real.txt → PC12_Boolnet_real_converted.txt\n",
      "[완료] Differentiation_T_lymphocytes.txt → Differentiation_T_lymphocytes_converted.txt\n",
      "[완료] ck_plant_logic_Boolnet.txt → ck_plant_logic_Boolnet_converted.txt\n",
      "[완료] Treatment_Castration_resistant_prostate_cancer.txt → Treatment_Castration_resistant_prostate_cancer_converted.txt\n",
      "[완료] Processing_SPZ_from_Drosophila.txt → Processing_SPZ_from_Drosophila_converted.txt\n",
      "[완료] SKBR3_Long_ERBB.txt → SKBR3_Long_ERBB_converted.txt\n",
      "[완료] HGF_signaling_Keratinocyte.txt → HGF_signaling_Keratinocyte_converted.txt\n",
      "[완료] Aurora_Kinase_A_in_Neuroblastoma.txt → Aurora_Kinase_A_in_Neuroblastoma_converted.txt\n",
      "[완료] T_Cell_differentiation.txt → T_Cell_differentiation_converted.txt\n",
      "[완료] Senescence_associated_secretory_phenotype.txt → Senescence_associated_secretory_phenotype_converted.txt\n",
      "[완료] BT474_Breastcellline_longtermERBB.txt → BT474_Breastcellline_longtermERBB_converted.txt\n",
      "[완료] FGF_pathway_Drosophilia.txt → FGF_pathway_Drosophilia_converted.txt\n",
      "[완료] Colitis_associated_colon_cancer.txt → Colitis_associated_colon_cancer_converted.txt\n",
      "[완료] GuradCell_abscisic_acid.txt → GuradCell_abscisic_acid_converted.txt\n",
      "[완료] B_Bronchiseptica_T_retortaeformis_coinfection.txt → B_Bronchiseptica_T_retortaeformis_coinfection_converted.txt\n",
      "[완료] MAPK_Cancer_cell_FATE.txt → MAPK_Cancer_cell_FATE_converted.txt\n",
      "[완료] Mammalian_Cell_cycle.txt → Mammalian_Cell_cycle_converted.txt\n",
      "[완료] Wg_Drosophilia_signaling.txt → Wg_Drosophilia_signaling_converted.txt\n",
      "[완료] IL-1_signaling.txt → IL-1_signaling_converted.txt\n",
      "[완료] CD4Tcell_differenitation_logic.txt → CD4Tcell_differenitation_logic_converted.txt\n",
      "[완료] Trichostrongylus_retortaeformis.txt → Trichostrongylus_retortaeformis_converted.txt\n",
      "[완료] Death_receptor_signaling.txt → Death_receptor_signaling_converted.txt\n",
      "[완료] Oxidative_stress_Pathway.txt → Oxidative_stress_Pathway_converted.txt\n",
      "[완료] FA_BRCA_pathway.txt → FA_BRCA_pathway_converted.txt\n",
      "[완료] Neurotransmitter_signaling.txt → Neurotransmitter_signaling_converted.txt\n",
      "[완료] IL-6_signaling.txt → IL-6_signaling_converted.txt\n",
      "[완료] Bordetella_bronchiseptica.txt → Bordetella_bronchiseptica_converted.txt\n",
      "[완료] HCC1954_long_ERBB.txt → HCC1954_long_ERBB_converted.txt\n",
      "[완료] B_Cell_differentiation.txt → B_Cell_differentiation_converted.txt\n",
      "[완료] Cholesterol_regulatory_Pathway.txt → Cholesterol_regulatory_Pathway_converted.txt\n",
      "[완료] Lymphopoiesis_regulatory.txt → Lymphopoiesis_regulatory_converted.txt\n",
      "[완료] Yeast_apoptosis.txt → Yeast_apoptosis_converted.txt\n",
      "[완료] B_Cell_dif_PNAS.txt → B_Cell_dif_PNAS_converted.txt\n",
      "[완료] Tumor_cell_invasion_migration.txt → Tumor_cell_invasion_migration_converted.txt\n",
      "[완료] Glucose_repression_2009.txt → Glucose_repression_2009_converted.txt\n",
      "[완료] T_Cell_receptor_signaling.txt → T_Cell_receptor_signaling_converted.txt\n",
      "[완료] CD4_T_Differentiation.txt → CD4_T_Differentiation_converted.txt\n",
      "[완료] ProInflammatory_TME_Acute_lymphoblastic_leukemia.txt → ProInflammatory_TME_Acute_lymphoblastic_leukemia_converted.txt\n"
     ]
    }
   ],
   "source": [
    "\n",
    "def convert_all_files(input_folder):\n",
    "    for filename in os.listdir(input_folder):\n",
    "        if filename.endswith(\".txt\"):\n",
    "            input_path = os.path.join(input_folder, filename)\n",
    "            output_filename = filename.replace(\".txt\", \"_converted.txt\")\n",
    "            output_path = os.path.join(output_folder, output_filename)\n",
    "\n",
    "            with open(input_path, 'r') as f:\n",
    "                lines = f.readlines()[1:]  # 첫 줄은 header 생략\n",
    "\n",
    "            converted_lines = [convert_logic(line) for line in lines if convert_logic(line)]\n",
    "\n",
    "            with open(output_path, 'w') as f:\n",
    "                f.write('\\n'.join(converted_lines))\n",
    "\n",
    "            print(f\"[완료] {filename} → {output_filename}\")\n",
    "\n",
    "# === 실행 ===\n",
    "convert_all_files(input_folder)"
   ]
  },
  {
   "cell_type": "code",
   "execution_count": null,
   "id": "4d543892",
   "metadata": {},
   "outputs": [],
   "source": []
  }
 ],
 "metadata": {
  "kernelspec": {
   "display_name": "Python 3 (ipykernel)",
   "language": "python",
   "name": "python3"
  },
  "language_info": {
   "codemirror_mode": {
    "name": "ipython",
    "version": 3
   },
   "file_extension": ".py",
   "mimetype": "text/x-python",
   "name": "python",
   "nbconvert_exporter": "python",
   "pygments_lexer": "ipython3",
   "version": "3.7.3"
  }
 },
 "nbformat": 4,
 "nbformat_minor": 5
}
