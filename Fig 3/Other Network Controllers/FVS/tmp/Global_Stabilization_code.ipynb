{
 "cells": [
  {
   "cell_type": "code",
   "execution_count": 2,
   "id": "9d6bd7c3",
   "metadata": {},
   "outputs": [
    {
     "name": "stdout",
     "output_type": "stream",
     "text": [
      "Collecting sympy\n",
      "  Downloading sympy-1.10.1-py3-none-any.whl (6.4 MB)\n",
      "\u001b[2K     \u001b[90m━━━━━━━━━━━━━━━━━━━━━━━━━━━━━━━━━━━━━━━━\u001b[0m \u001b[32m6.4/6.4 MB\u001b[0m \u001b[31m12.5 MB/s\u001b[0m eta \u001b[36m0:00:00\u001b[0m00:01\u001b[0m00:01\u001b[0m\n",
      "\u001b[?25hCollecting mpmath>=0.19\n",
      "  Downloading mpmath-1.3.0-py3-none-any.whl (536 kB)\n",
      "\u001b[2K     \u001b[90m━━━━━━━━━━━━━━━━━━━━━━━━━━━━━━━━━━━━━━\u001b[0m \u001b[32m536.2/536.2 kB\u001b[0m \u001b[31m10.2 MB/s\u001b[0m eta \u001b[36m0:00:00\u001b[0ma \u001b[36m0:00:01\u001b[0m\n",
      "\u001b[?25hInstalling collected packages: mpmath, sympy\n",
      "Successfully installed mpmath-1.3.0 sympy-1.10.1\n"
     ]
    }
   ],
   "source": [
    "!pip install sympy"
   ]
  },
  {
   "cell_type": "code",
   "execution_count": 4,
   "id": "0bd887ff",
   "metadata": {
    "scrolled": true
   },
   "outputs": [
    {
     "name": "stdout",
     "output_type": "stream",
     "text": [
      "Collecting tqdm\n",
      "  Downloading tqdm-4.67.1-py3-none-any.whl (78 kB)\n",
      "\u001b[2K     \u001b[90m━━━━━━━━━━━━━━━━━━━━━━━━━━━━━━━━━━━━━━━━\u001b[0m \u001b[32m78.5/78.5 kB\u001b[0m \u001b[31m6.0 MB/s\u001b[0m eta \u001b[36m0:00:00\u001b[0m\n",
      "\u001b[?25hInstalling collected packages: tqdm\n",
      "Successfully installed tqdm-4.67.1\n"
     ]
    }
   ],
   "source": [
    "!pip install tqdm"
   ]
  },
  {
   "cell_type": "code",
   "execution_count": 20,
   "id": "1127c206",
   "metadata": {},
   "outputs": [
    {
     "name": "stdout",
     "output_type": "stream",
     "text": [
      "Collecting cana\n",
      "  Downloading cana-1.0.0.tar.gz (555 kB)\n",
      "\u001b[2K     \u001b[90m━━━━━━━━━━━━━━━━━━━━━━━━━━━━━━━━━━━━━━\u001b[0m \u001b[32m555.4/555.4 kB\u001b[0m \u001b[31m18.8 MB/s\u001b[0m eta \u001b[36m0:00:00\u001b[0m\n",
      "\u001b[?25h  Installing build dependencies ... \u001b[?25ldone\n",
      "\u001b[?25h  Getting requirements to build wheel ... \u001b[?25ldone\n",
      "\u001b[?25h  Preparing metadata (pyproject.toml) ... \u001b[?25ldone\n",
      "\u001b[?25hRequirement already satisfied: scipy in /home/shjang/anaconda3/envs/iqcell/lib/python3.7/site-packages (from cana) (1.7.3)\n",
      "Requirement already satisfied: networkx in /home/shjang/anaconda3/envs/iqcell/lib/python3.7/site-packages (from cana) (2.3)\n",
      "Requirement already satisfied: pandas in /home/shjang/anaconda3/envs/iqcell/lib/python3.7/site-packages (from cana) (1.3.5)\n",
      "Collecting schematodes>=1.0.0\n",
      "  Downloading schematodes-1.0.0-cp37-cp37m-manylinux_2_17_x86_64.manylinux2014_x86_64.whl (1.1 MB)\n",
      "\u001b[2K     \u001b[90m━━━━━━━━━━━━━━━━━━━━━━━━━━━━━━━━━━━━━━━━\u001b[0m \u001b[32m1.1/1.1 MB\u001b[0m \u001b[31m62.4 MB/s\u001b[0m eta \u001b[36m0:00:00\u001b[0m\n",
      "\u001b[?25hRequirement already satisfied: numpy in /home/shjang/anaconda3/envs/iqcell/lib/python3.7/site-packages (from cana) (1.21.6)\n",
      "Requirement already satisfied: matplotlib in /home/shjang/anaconda3/envs/iqcell/lib/python3.7/site-packages (from cana) (3.5.3)\n",
      "Requirement already satisfied: fonttools>=4.22.0 in /home/shjang/anaconda3/envs/iqcell/lib/python3.7/site-packages (from matplotlib->cana) (4.38.0)\n",
      "Requirement already satisfied: pyparsing>=2.2.1 in /home/shjang/anaconda3/envs/iqcell/lib/python3.7/site-packages (from matplotlib->cana) (3.0.9)\n",
      "Requirement already satisfied: packaging>=20.0 in /home/shjang/anaconda3/envs/iqcell/lib/python3.7/site-packages (from matplotlib->cana) (23.1)\n",
      "Requirement already satisfied: cycler>=0.10 in /home/shjang/anaconda3/envs/iqcell/lib/python3.7/site-packages (from matplotlib->cana) (0.11.0)\n",
      "Requirement already satisfied: kiwisolver>=1.0.1 in /home/shjang/anaconda3/envs/iqcell/lib/python3.7/site-packages (from matplotlib->cana) (1.4.4)\n",
      "Requirement already satisfied: python-dateutil>=2.7 in /home/shjang/anaconda3/envs/iqcell/lib/python3.7/site-packages (from matplotlib->cana) (2.8.2)\n",
      "Requirement already satisfied: pillow>=6.2.0 in /home/shjang/anaconda3/envs/iqcell/lib/python3.7/site-packages (from matplotlib->cana) (9.5.0)\n",
      "Requirement already satisfied: decorator>=4.3.0 in /home/shjang/anaconda3/envs/iqcell/lib/python3.7/site-packages (from networkx->cana) (5.1.1)\n",
      "Requirement already satisfied: pytz>=2017.3 in /home/shjang/anaconda3/envs/iqcell/lib/python3.7/site-packages (from pandas->cana) (2023.3)\n",
      "Requirement already satisfied: typing-extensions in /home/shjang/anaconda3/envs/iqcell/lib/python3.7/site-packages (from kiwisolver>=1.0.1->matplotlib->cana) (4.6.3)\n",
      "Requirement already satisfied: six>=1.5 in /home/shjang/anaconda3/envs/iqcell/lib/python3.7/site-packages (from python-dateutil>=2.7->matplotlib->cana) (1.16.0)\n",
      "Building wheels for collected packages: cana\n",
      "  Building wheel for cana (pyproject.toml) ... \u001b[?25ldone\n",
      "\u001b[?25h  Created wheel for cana: filename=cana-1.0.0-cp37-cp37m-linux_x86_64.whl size=1018151 sha256=b6c2b06afa05289374aaa728af229f46478243bfcd2b75ad467e5a0928866052\n",
      "  Stored in directory: /home/shjang/.cache/pip/wheels/fc/46/f0/4fecc11e986376bf7d835306116d3f11887e6a7ac69152425b\n",
      "Successfully built cana\n",
      "Installing collected packages: schematodes, cana\n",
      "Successfully installed cana-1.0.0 schematodes-1.0.0\n"
     ]
    }
   ],
   "source": [
    "!pip install cana"
   ]
  },
  {
   "cell_type": "code",
   "execution_count": 8,
   "id": "2b65f422",
   "metadata": {},
   "outputs": [
    {
     "name": "stderr",
     "output_type": "stream",
     "text": [
      "100%|██████████████████████████████████████████| 23/23 [00:00<00:00, 602.15it/s]"
     ]
    },
    {
     "name": "stdout",
     "output_type": "stream",
     "text": [
      "GATA3 = Tbet | (GATA3 & STAT6)\n",
      "IFNb = IFNb\n",
      "IFNbR = IFNb\n",
      "IFNg = (IRAK & STAT3) | (NFAT & STAT3) | (STAT3 & STAT4) | (STAT3 & Tbet)\n",
      "IFNgR = IFNg\n",
      "IL10 = GATA3\n",
      "IL10R = IL10\n",
      "IL12 = IL12\n",
      "IL12R = IL12\n",
      "IL18 = IL18\n",
      "IL18R = IL18 & STAT6\n",
      "IL4 = GATA3 | STAT1\n",
      "IL4R = IL4 | SOCS1\n",
      "IRAK = IL18R\n",
      "JAK1 = SOCS1 | ~IFNgR\n",
      "NFAT = TCR\n",
      "SOCS1 = STAT1 | Tbet\n",
      "STAT1 = IFNbR | ~JAK1\n",
      "STAT3 = IL10R\n",
      "STAT4 = GATA3 & IL12R\n",
      "STAT6 = IL4R\n",
      "TCR = TCR\n",
      "Tbet = (GATA3 & STAT1) | (GATA3 & Tbet)\n",
      ".txt files with the reduced network is saved.\n",
      "Total time for reducing the network: 0.04523873329162598 sec\n",
      "Complete!\n",
      "0.0454404354095459\n"
     ]
    },
    {
     "name": "stderr",
     "output_type": "stream",
     "text": [
      "\n"
     ]
    }
   ],
   "source": [
    "import BNSimpleReduction as BNred\n",
    "import time\n",
    "\n",
    "\n",
    "\n",
    "\n",
    "startTime = time.time()\n",
    "# BNred.main(Parameter_1, Parameter_2)\n",
    "# Parameter_1: Boolean network file\n",
    "# Parameter_2: Desired fixed point attractor (steady state) in the network\n",
    "BNred.main(\"./networks/t_cell.txt\", \"01111001111001011101011\")\n",
    "endTime = time.time() - startTime\n",
    "print(endTime)\n"
   ]
  },
  {
   "cell_type": "markdown",
   "id": "eb414b11",
   "metadata": {},
   "source": [
    "When you run the code BNred.main(\"./networks/t_cell.txt\", \"01111001111001011101010\"), \n",
    "\n",
    "a folder named results/t_cell_01111001111001011101010 is created, \n",
    "\n",
    "and inside it, a file called OnePlusProductNet.txt is generated."
   ]
  },
  {
   "cell_type": "code",
   "execution_count": 37,
   "id": "65ff7f7c",
   "metadata": {},
   "outputs": [],
   "source": [
    "with open(\"./results/t_cell_01111001111001011101011/OnePlusProductNet.txt\", \"r\") as f:\n",
    "    modeltext2 = f.read()"
   ]
  },
  {
   "cell_type": "code",
   "execution_count": 38,
   "id": "8843b210",
   "metadata": {},
   "outputs": [
    {
     "data": {
      "text/plain": [
       "'GATA3 = Tbet\\nIFNb = IFNb\\nIFNbR = IFNb\\nIFNg = (IRAK & STAT3)\\nIFNgR = IFNg\\nIL10 = GATA3\\nIL10R = IL10\\nIL12 = IL12\\nIL12R = IL12\\nIL18 = IL18\\nIL18R = IL18 & STAT6\\nIL4 = GATA3\\nIL4R = IL4\\nIRAK = IL18R\\nJAK1 = SOCS1\\nNFAT = TCR\\nSOCS1 = STAT1\\nSTAT1 = IFNbR\\nSTAT3 = IL10R\\nSTAT4 = GATA3 & IL12R\\nSTAT6 = IL4R\\nTCR = TCR\\nTbet = (GATA3 & STAT1)'"
      ]
     },
     "execution_count": 38,
     "metadata": {},
     "output_type": "execute_result"
    }
   ],
   "source": [
    "modeltext2"
   ]
  },
  {
   "cell_type": "code",
   "execution_count": 39,
   "id": "aca7bab0",
   "metadata": {},
   "outputs": [],
   "source": [
    "modeltext2 = modeltext2.replace(\"=\", \"*=\").replace(\" & \", \" and \").replace(\" | \", \" or \").replace(\"~ \", \"not \")\n",
    "modeltext2 = modeltext2.strip()"
   ]
  },
  {
   "cell_type": "code",
   "execution_count": 40,
   "id": "69ef4eb2",
   "metadata": {},
   "outputs": [],
   "source": [
    "import cana\n",
    "import time\n",
    "import networkx as nx\n",
    "import matplotlib.pyplot as plt\n",
    "from cana.datasets.bio import THALIANA\n"
   ]
  },
  {
   "cell_type": "code",
   "execution_count": 41,
   "id": "b83994eb",
   "metadata": {},
   "outputs": [
    {
     "name": "stdout",
     "output_type": "stream",
     "text": [
      "[['GATA3', 'IFNb', 'IL12', 'IL18', 'TCR'], ['IFNb', 'IL12', 'IL18', 'TCR', 'Tbet']]\n"
     ]
    }
   ],
   "source": [
    "\n",
    "startTime = time.time()\n",
    "examNet = cana.boolean_network.BooleanNetwork.from_string_boolean(modeltext2)\n",
    "#print(examNet)\n",
    "\n",
    "# Mapping nodes\n",
    "mappindDic = {}\n",
    "for node in examNet.nodes:\n",
    "    mappindDic[node.id] = node.name\n",
    "#print(mappindDic)\n",
    "\n",
    "\n",
    "\n",
    "# FVSs\n",
    "FVS_bruteforce = examNet.feedback_vertex_set_driver_nodes(graph='structural', method='bruteforce', max_search=10, keep_self_loops=True) # brutuforce\n",
    "#print(FVS_bruteforce)\n",
    "FVS_listList = []\n",
    "for FVS in FVS_bruteforce:\n",
    "    FVS_list = []\n",
    "    for node in FVS:\n",
    "        FVS_list.append(mappindDic[node])\n",
    "    FVS_listList.append(FVS_list)\n",
    "print(FVS_listList)\n",
    "endTime = time.time() - startTime\n",
    "#print(endTime)"
   ]
  },
  {
   "cell_type": "code",
   "execution_count": null,
   "id": "a02e9569",
   "metadata": {},
   "outputs": [],
   "source": []
  },
  {
   "cell_type": "code",
   "execution_count": null,
   "id": "385bf890",
   "metadata": {},
   "outputs": [],
   "source": []
  },
  {
   "cell_type": "code",
   "execution_count": 67,
   "id": "8b34b8d9",
   "metadata": {},
   "outputs": [
    {
     "name": "stderr",
     "output_type": "stream",
     "text": [
      "\r",
      "  0%|                                                    | 0/53 [00:00<?, ?it/s]"
     ]
    },
    {
     "name": "stdout",
     "output_type": "stream",
     "text": [
      "IgE = ~BC_TRetoxtaefoxmis | (IL13 & ~IL4II)\n",
      "Th2I_Bacterium = ~Th2II_Bacterium\n",
      "BC_TRetoxtaefoxmis = BC_TRetoxtaefoxmis | T0\n",
      "BC_Bacterium = BC_Bacterium & ~T0\n",
      "T0 = DCII_TRetoxtaefoxmis | ~DCII_Bacterium\n",
      "EL = EL2 | IS\n",
      "IFNgI = DCI_TRetoxtaefoxmis | IFNg_Bacterium | Th1I_TRetoxtaefoxmis\n",
      "IgG = ~BC_TRetoxtaefoxmis\n",
      "TTSSI = Bb & IgA_Bacterium & ~IgG_Bacterium\n",
      "TTSSII = ~TTSSI\n",
      "IL10I = ~IL10I_Bacterium & ~Th2I_TRetoxtaefoxmis\n",
      "PIC = (EC_Bacterium & IL10I & ~IgA_TRetoxtaefoxmis) | (IL10I & ~AD & ~IgA_TRetoxtaefoxmis) | (IL10I & ~AP & ~IgA_TRetoxtaefoxmis) | (IL10I & ~EC_TRetoxtaefoxmis & ~IgA_TRetoxtaefoxmis)\n",
      "AD = IgG | MPI_Bacterium | ~NE_TRetoxtaefoxmis | (AD & IS)\n",
      "IL4I = ~IL4II\n",
      "Th2II_TRetoxtaefoxmis = IL12II | ~DCII_TRetoxtaefoxmis | ~T0\n",
      "NE_Bacterium = ~PIC\n"
     ]
    },
    {
     "name": "stderr",
     "output_type": "stream",
     "text": [
      "100%|██████████████████████████████████████████| 53/53 [00:00<00:00, 149.01it/s]"
     ]
    },
    {
     "name": "stdout",
     "output_type": "stream",
     "text": [
      "IL4II = EL2 | (~IFNgI & ~IL12II & ~Th2II_Bacterium) | (~IFNgI & ~IL12II & ~Th2II_TRetoxtaefoxmis) | (DCII_TRetoxtaefoxmis & T0 & ~IFNgI & ~IL12II) | (T0 & ~DCII_Bacterium & ~IFNgI & ~IL12II)\n",
      "DCII_Bacterium = ~DCI_Bacterium\n",
      "IgA_TRetoxtaefoxmis = BC_TRetoxtaefoxmis & ~IS\n",
      "IFNg_Bacterium = DCI_Bacterium | MPI_Bacterium | (IL4I & Th1I_Bacterium & ~IL10I_Bacterium)\n",
      "IFNgII = IFNgI | IFNg_Bacterium\n",
      "AgAb_Bacterium = (Bb & IgG_Bacterium) | (Bb & ~IgA_Bacterium)\n",
      "Bb = Bb & ~PH\n",
      "TNE = ~NE_Bacterium | ~NE_TRetoxtaefoxmis\n",
      "Th2I_TRetoxtaefoxmis = ~Th2II_TRetoxtaefoxmis\n",
      "Th1I_TRetoxtaefoxmis = Th1II_TRetoxtaefoxmis\n",
      "AP = ~Bb | ~MPI_Bacterium | ~Th1I_Bacterium | (~AgAb_Bacterium & ~Cb) | (~AgAb_Bacterium & ~IgG_Bacterium)\n",
      "Th2II_Bacterium = DCII_Bacterium | IL12II | ~T0\n",
      "MPI_Bacterium = (Bb & IFNg_Bacterium) | (Bb & PIC)\n",
      "Th1II_Bacterium = IL12II & T0 & ~DCII_Bacterium\n",
      "Cb = (AgAb_Bacterium & IgG_Bacterium) | (Bb & Oag)\n",
      "DCII_TRetoxtaefoxmis = DCI_TRetoxtaefoxmis\n",
      "TrI_Bacterium = TrII\n",
      "IL13 = (EL & ~EL2 & ~Th2I_Bacterium & ~Th2I_TRetoxtaefoxmis) | (IS & ~EL2 & ~Th2I_Bacterium & ~Th2I_TRetoxtaefoxmis)\n",
      "EC_TRetoxtaefoxmis = AD & IS\n",
      "EC_Bacterium = Bb\n",
      "Th1II_TRetoxtaefoxmis = DCII_TRetoxtaefoxmis & IL12II & T0\n",
      "NE_TRetoxtaefoxmis = (AD & ~IFNgI) | (AD & ~IL10I) | (AD & ~IL4I) | (~IFNgI & ~PIC) | (~IL10I & ~PIC) | (~IL4I & ~PIC)\n",
      "DCI_Bacterium = (Bb & IFNg_Bacterium) | (Bb & PIC)\n",
      "EL2 = (IL5 & ~IL13) | (IL5 & ~IgE)\n",
      "IgA_Bacterium = ~Bb | (BC_Bacterium & IgA_Bacterium)\n",
      "IL12II = (DCII_TRetoxtaefoxmis & T0 & ~IL4II) | (T0 & ~DCII_Bacterium & ~IL4II)\n",
      "IL10I_Bacterium = MPI_Bacterium | TrI_Bacterium | (TTSSI & Th2I_Bacterium)\n",
      "Oag = ~Bb\n",
      "Th1I_Bacterium = Th1II_Bacterium\n",
      "DP = NE_Bacterium | ~TTSSI\n",
      "DCI_TRetoxtaefoxmis = PIC\n",
      "PH = Bb & ~AP\n",
      "IL5 = EL2 | ~Th2II_TRetoxtaefoxmis\n",
      "IgG_Bacterium = IgG_Bacterium | ~BC_Bacterium\n",
      "TrII = T0 & ~DCII_Bacterium & ~TTSSII\n",
      "TEL = EL2 | ~EL\n",
      "IS = IS\n",
      ".txt files with the reduced network is saved.\n",
      "Total time for reducing the network: 0.3625905513763428 sec\n",
      "Complete!\n",
      "0.36280012130737305\n"
     ]
    },
    {
     "name": "stderr",
     "output_type": "stream",
     "text": [
      "\n"
     ]
    }
   ],
   "source": [
    "\n",
    "startTime = time.time()\n",
    "# BNred.main(Parameter_1, Parameter_2)\n",
    "# Parameter_1: Boolean network file\n",
    "# Parameter_2: Desired fixed point attractor (steady state) in the network\n",
    "BNred.main(\"./networks/network_tmp2.txt\", \"01101010100100001011111111001111100110110110101111110\")\n",
    "endTime = time.time() - startTime\n",
    "print(endTime)\n"
   ]
  },
  {
   "cell_type": "code",
   "execution_count": 76,
   "id": "ef8cd196",
   "metadata": {},
   "outputs": [],
   "source": [
    "with open(\"./results/network_tmp2_01101010100100001011111111001111100110110110101111110/OnePlusProductNet.txt\", \"r\") as f:\n",
    "    modeltext3 = f.read()"
   ]
  },
  {
   "cell_type": "code",
   "execution_count": 77,
   "id": "cc8113db",
   "metadata": {},
   "outputs": [],
   "source": [
    "modeltext3 = modeltext3.replace(\"=\", \"*=\").replace(\" & \", \" and \").replace(\" | \", \" or \").replace(\"~ \", \"not \")\n",
    "modeltext3 = modeltext3.strip()"
   ]
  },
  {
   "cell_type": "code",
   "execution_count": 78,
   "id": "fed6d50d",
   "metadata": {},
   "outputs": [
    {
     "data": {
      "text/plain": [
       "'IgE *= \\nTh2I_Bacterium *= \\nBC_TRetoxtaefoxmis *= T0\\nBC_Bacterium *= \\nT0 *= DCII_TRetoxtaefoxmis\\nEL *= EL2\\nIFNgI *= DCI_TRetoxtaefoxmis\\nIgG *= \\nTTSSI *= \\nTTSSII *= \\nIL10I *= \\nPIC *= \\nAD *= IgG\\nIL4I *= \\nTh2II_TRetoxtaefoxmis *= IL12II\\nNE_Bacterium *= \\nIL4II *= EL2\\nDCII_Bacterium *= \\nIgA_TRetoxtaefoxmis *= \\nIFNg_Bacterium *= DCI_Bacterium\\nIFNgII *= IFNgI\\nAgAb_Bacterium *= (Bb and IgG_Bacterium)\\nBb *= \\nTNE *= \\nTh2I_TRetoxtaefoxmis *= \\nTh1I_TRetoxtaefoxmis *= Th1II_TRetoxtaefoxmis\\nAP *= \\nTh2II_Bacterium *= DCII_Bacterium\\nMPI_Bacterium *= (Bb and IFNg_Bacterium)\\nTh1II_Bacterium *= \\nCb *= (AgAb_Bacterium and IgG_Bacterium)\\nDCII_TRetoxtaefoxmis *= DCI_TRetoxtaefoxmis\\nTrI_Bacterium *= TrII\\nIL13 *= \\nEC_TRetoxtaefoxmis *= AD and IS\\nEC_Bacterium *= Bb\\nTh1II_TRetoxtaefoxmis *= DCII_TRetoxtaefoxmis and IL12II and T0\\nNE_TRetoxtaefoxmis *= \\nDCI_Bacterium *= (Bb and IFNg_Bacterium)\\nEL2 *= \\nIgA_Bacterium *= (BC_Bacterium and IgA_Bacterium)\\nIL12II *= \\nIL10I_Bacterium *= MPI_Bacterium\\nOag *= \\nTh1I_Bacterium *= Th1II_Bacterium\\nDP *= NE_Bacterium\\nDCI_TRetoxtaefoxmis *= PIC\\nPH *= \\nIL5 *= EL2\\nIgG_Bacterium *= IgG_Bacterium\\nTrII *= \\nTEL *= EL2\\nIS *= IS'"
      ]
     },
     "execution_count": 78,
     "metadata": {},
     "output_type": "execute_result"
    }
   ],
   "source": [
    "modeltext3"
   ]
  },
  {
   "cell_type": "code",
   "execution_count": 80,
   "id": "62451916",
   "metadata": {},
   "outputs": [
    {
     "ename": "SyntaxError",
     "evalue": "unexpected EOF while parsing (<string>, line 1)",
     "output_type": "error",
     "traceback": [
      "Traceback \u001b[0;36m(most recent call last)\u001b[0m:\n",
      "  File \u001b[1;32m\"/home/shjang/anaconda3/envs/iqcell/lib/python3.7/site-packages/IPython/core/interactiveshell.py\"\u001b[0m, line \u001b[1;32m3553\u001b[0m, in \u001b[1;35mrun_code\u001b[0m\n    exec(code_obj, self.user_global_ns, self.user_ns)\n",
      "  File \u001b[1;32m\"/tmp/ipykernel_394656/2918479905.py\"\u001b[0m, line \u001b[1;32m1\u001b[0m, in \u001b[1;35m<module>\u001b[0m\n    examNet = cana.boolean_network.BooleanNetwork.from_string_boolean(modeltext3)\n",
      "  File \u001b[1;32m\"/home/shjang/anaconda3/envs/iqcell/lib/python3.7/site-packages/cana/boolean_network.py\"\u001b[0m, line \u001b[1;32m318\u001b[0m, in \u001b[1;35mfrom_string_boolean\u001b[0m\n    logic[i][\"out\"] = output_transitions(eval_line, input_names)\n",
      "\u001b[0;36m  File \u001b[0;32m\"/home/shjang/anaconda3/envs/iqcell/lib/python3.7/site-packages/cana/utils.py\"\u001b[0;36m, line \u001b[0;32m183\u001b[0;36m, in \u001b[0;35moutput_transitions\u001b[0;36m\u001b[0m\n\u001b[0;31m    output_list.append(int(eval(eval_line)))\u001b[0m\n",
      "\u001b[0;36m  File \u001b[0;32m\"<string>\"\u001b[0;36m, line \u001b[0;32m1\u001b[0m\n\u001b[0;31m    \u001b[0m\n\u001b[0m    ^\u001b[0m\n\u001b[0;31mSyntaxError\u001b[0m\u001b[0;31m:\u001b[0m unexpected EOF while parsing\n"
     ]
    }
   ],
   "source": [
    "examNet = cana.boolean_network.BooleanNetwork.from_string_boolean(modeltext3)"
   ]
  },
  {
   "cell_type": "code",
   "execution_count": 81,
   "id": "b87c3c4d",
   "metadata": {},
   "outputs": [],
   "source": [
    "with open(\"./results/grieco_01101010100100001011111111001111100110110110101111110/OnePlusProductNet.txt\", \"r\") as f:\n",
    "    modeltext4 = f.read()"
   ]
  },
  {
   "cell_type": "code",
   "execution_count": 83,
   "id": "09f0ece8",
   "metadata": {},
   "outputs": [],
   "source": [
    "modeltext4 = modeltext4.replace(\"=\", \"*=\").replace(\" & \", \" and \").replace(\" | \", \" or \").replace(\"~ \", \"not \")\n",
    "modeltext4 = modeltext4.strip()"
   ]
  },
  {
   "cell_type": "code",
   "execution_count": 84,
   "id": "d6168654",
   "metadata": {},
   "outputs": [
    {
     "data": {
      "text/plain": [
       "'AKT *= PTEN\\nAP1 *= (ATF2 and JUN)\\nATF2 *= JNK\\nATM *= DNA_damage\\nApoptosis *= BCL2 and ERK and FOXO3 and p53\\nBCL2 *= AKT\\nCREB *= MSK\\nDNA_damage *= DNA_damage\\nDUSP1 *= CREB\\nEGFR *= GRB2\\nEGFR_stimulus *= EGFR_stimulus\\nELK1 *= JNK\\nERK *= MEK1_2\\nFGFR3 *= FGFR3_stimulus\\nFGFR3_stimulus *= FGFR3_stimulus\\nFOS *= ERK\\nFOXO3 *= AKT and JNK\\nFRS2 *= FGFR3\\nGAB1 *= GRB2\\nGADD45 *= SMAD\\nGRB2 *= TGFBR\\nGrowth_Arrest *= p21\\nJNK *= (MAP3K1_3 and MTK1)\\nJUN *= JNK\\nMAP3K1_3 *= RAS\\nMAX *= p38\\nMDM2 *= p14\\nMEK1_2 *= AP1\\nMSK *= p38\\nMTK1 *= GADD45\\nMYC *= (MAX and MSK)\\nPDK1 *= PI3K\\nPI3K *= GAB1\\nPKC *= PLCG\\nPLCG *= EGFR and FGFR3\\nPPP2CA *= p38\\nPTEN *= p53\\nProliferation *= p21\\nRAF *= (AKT and ERK and RAS)\\nRAS *= SOS\\nRSK *= ERK\\nSMAD *= TGFBR\\nSOS *= GRB2 and RSK\\nSPRY *= ERK\\nTAK1 *= TGFBR\\nTAOK *= ATM\\nTGFBR *= TGFBR_stimulus\\nTGFBR_stimulus *= TGFBR_stimulus\\np14 *= MYC\\np21 *= AKT and p53\\np38 *= (MAP3K1_3 and MTK1)\\np53 *= (MDM2 and p38)\\np70 *= ERK'"
      ]
     },
     "execution_count": 84,
     "metadata": {},
     "output_type": "execute_result"
    }
   ],
   "source": [
    "modeltext4"
   ]
  },
  {
   "cell_type": "code",
   "execution_count": 85,
   "id": "baf57806",
   "metadata": {},
   "outputs": [
    {
     "data": {
      "text/plain": [
       "'IgE *= \\nTh2I_Bacterium *= \\nBC_TRetoxtaefoxmis *= T0\\nBC_Bacterium *= \\nT0 *= DCII_TRetoxtaefoxmis\\nEL *= EL2\\nIFNgI *= DCI_TRetoxtaefoxmis\\nIgG *= \\nTTSSI *= \\nTTSSII *= \\nIL10I *= \\nPIC *= \\nAD *= IgG\\nIL4I *= \\nTh2II_TRetoxtaefoxmis *= IL12II\\nNE_Bacterium *= \\nIL4II *= EL2\\nDCII_Bacterium *= \\nIgA_TRetoxtaefoxmis *= \\nIFNg_Bacterium *= DCI_Bacterium\\nIFNgII *= IFNgI\\nAgAb_Bacterium *= (Bb and IgG_Bacterium)\\nBb *= \\nTNE *= \\nTh2I_TRetoxtaefoxmis *= \\nTh1I_TRetoxtaefoxmis *= Th1II_TRetoxtaefoxmis\\nAP *= \\nTh2II_Bacterium *= DCII_Bacterium\\nMPI_Bacterium *= (Bb and IFNg_Bacterium)\\nTh1II_Bacterium *= \\nCb *= (AgAb_Bacterium and IgG_Bacterium)\\nDCII_TRetoxtaefoxmis *= DCI_TRetoxtaefoxmis\\nTrI_Bacterium *= TrII\\nIL13 *= \\nEC_TRetoxtaefoxmis *= AD and IS\\nEC_Bacterium *= Bb\\nTh1II_TRetoxtaefoxmis *= DCII_TRetoxtaefoxmis and IL12II and T0\\nNE_TRetoxtaefoxmis *= \\nDCI_Bacterium *= (Bb and IFNg_Bacterium)\\nEL2 *= \\nIgA_Bacterium *= (BC_Bacterium and IgA_Bacterium)\\nIL12II *= \\nIL10I_Bacterium *= MPI_Bacterium\\nOag *= \\nTh1I_Bacterium *= Th1II_Bacterium\\nDP *= NE_Bacterium\\nDCI_TRetoxtaefoxmis *= PIC\\nPH *= \\nIL5 *= EL2\\nIgG_Bacterium *= IgG_Bacterium\\nTrII *= \\nTEL *= EL2\\nIS *= IS'"
      ]
     },
     "execution_count": 85,
     "metadata": {},
     "output_type": "execute_result"
    }
   ],
   "source": [
    "modeltext3"
   ]
  },
  {
   "cell_type": "code",
   "execution_count": 79,
   "id": "f2622a7e",
   "metadata": {},
   "outputs": [
    {
     "ename": "SyntaxError",
     "evalue": "unexpected EOF while parsing (<string>, line 1)",
     "output_type": "error",
     "traceback": [
      "Traceback \u001b[0;36m(most recent call last)\u001b[0m:\n",
      "  File \u001b[1;32m\"/home/shjang/anaconda3/envs/iqcell/lib/python3.7/site-packages/IPython/core/interactiveshell.py\"\u001b[0m, line \u001b[1;32m3553\u001b[0m, in \u001b[1;35mrun_code\u001b[0m\n    exec(code_obj, self.user_global_ns, self.user_ns)\n",
      "  File \u001b[1;32m\"/tmp/ipykernel_394656/2180542002.py\"\u001b[0m, line \u001b[1;32m2\u001b[0m, in \u001b[1;35m<module>\u001b[0m\n    examNet = cana.boolean_network.BooleanNetwork.from_string_boolean(modeltext3)\n",
      "  File \u001b[1;32m\"/home/shjang/anaconda3/envs/iqcell/lib/python3.7/site-packages/cana/boolean_network.py\"\u001b[0m, line \u001b[1;32m318\u001b[0m, in \u001b[1;35mfrom_string_boolean\u001b[0m\n    logic[i][\"out\"] = output_transitions(eval_line, input_names)\n",
      "\u001b[0;36m  File \u001b[0;32m\"/home/shjang/anaconda3/envs/iqcell/lib/python3.7/site-packages/cana/utils.py\"\u001b[0;36m, line \u001b[0;32m183\u001b[0;36m, in \u001b[0;35moutput_transitions\u001b[0;36m\u001b[0m\n\u001b[0;31m    output_list.append(int(eval(eval_line)))\u001b[0m\n",
      "\u001b[0;36m  File \u001b[0;32m\"<string>\"\u001b[0;36m, line \u001b[0;32m1\u001b[0m\n\u001b[0;31m    \u001b[0m\n\u001b[0m    ^\u001b[0m\n\u001b[0;31mSyntaxError\u001b[0m\u001b[0;31m:\u001b[0m unexpected EOF while parsing\n"
     ]
    }
   ],
   "source": [
    "\n",
    "startTime = time.time()\n",
    "examNet = cana.boolean_network.BooleanNetwork.from_string_boolean(modeltext3)\n",
    "#print(examNet)\n",
    "\n",
    "# Mapping nodes\n",
    "mappindDic = {}\n",
    "for node in examNet.nodes:\n",
    "    mappindDic[node.id] = node.name\n",
    "#print(mappindDic)\n",
    "\n",
    "\n",
    "\n",
    "# FVSs\n",
    "FVS_bruteforce = examNet.feedback_vertex_set_driver_nodes(graph='structural', method='bruteforce', max_search=10, keep_self_loops=True) # brutuforce\n",
    "#print(FVS_bruteforce)\n",
    "FVS_listList = []\n",
    "for FVS in FVS_bruteforce:\n",
    "    FVS_list = []\n",
    "    for node in FVS:\n",
    "        FVS_list.append(mappindDic[node])\n",
    "    FVS_listList.append(FVS_list)\n",
    "print(FVS_listList)\n",
    "endTime = time.time() - startTime\n",
    "#print(endTime)"
   ]
  },
  {
   "cell_type": "code",
   "execution_count": null,
   "id": "fdfcfc48",
   "metadata": {},
   "outputs": [],
   "source": [
    "#10110001000001001000000000000000010000010000000011010\n",
    "\n"
   ]
  }
 ],
 "metadata": {
  "kernelspec": {
   "display_name": "Python 3 (ipykernel)",
   "language": "python",
   "name": "python3"
  },
  "language_info": {
   "codemirror_mode": {
    "name": "ipython",
    "version": 3
   },
   "file_extension": ".py",
   "mimetype": "text/x-python",
   "name": "python",
   "nbconvert_exporter": "python",
   "pygments_lexer": "ipython3",
   "version": "3.7.3"
  }
 },
 "nbformat": 4,
 "nbformat_minor": 5
}
