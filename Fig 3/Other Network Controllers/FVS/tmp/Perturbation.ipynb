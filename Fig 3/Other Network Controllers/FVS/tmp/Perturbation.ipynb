{
 "cells": [
  {
   "cell_type": "code",
   "execution_count": 22,
   "id": "3e8c6144",
   "metadata": {},
   "outputs": [],
   "source": [
    "import BNSimpleReduction as BNred\n",
    "import time\n",
    "import os\n",
    "import cana\n",
    "import time\n",
    "import networkx as nx\n",
    "import matplotlib.pyplot as plt\n",
    "from cana.datasets.bio import THALIANA"
   ]
  },
  {
   "cell_type": "code",
   "execution_count": null,
   "id": "027b3e09",
   "metadata": {},
   "outputs": [],
   "source": [
    "\n",
    "startTime = time.time()\n",
    "# BNred.main(Parameter_1, Parameter_2)\n",
    "# Parameter_1: Boolean network file\n",
    "# Parameter_2: Desired fixed point attractor (steady state) in the network\n",
    "BNred.main(\"./networks/t_cell.txt\", \"01111001111001011101011\")\n",
    "endTime = time.time() - startTime\n",
    "print(endTime)\n"
   ]
  },
  {
   "cell_type": "code",
   "execution_count": 24,
   "id": "61a8d8dd",
   "metadata": {},
   "outputs": [],
   "source": [
    "def perturb_network_and_save(input_file, node_name, state='ON'):\n",
    "    # perturbation 논리 생성\n",
    "    if state.upper() == 'ON':\n",
    "        new_logic = f\"{node_name} = {node_name} or !{node_name}\"\n",
    "    elif state.upper() == 'OFF':\n",
    "        new_logic = f\"{node_name} = {node_name} & !{node_name}\"\n",
    "    else:\n",
    "        raise ValueError(\"State must be 'ON' or 'OFF'\")\n",
    "\n",
    "    with open(input_file, 'r') as f:\n",
    "        lines = f.readlines()\n",
    "\n",
    "    updated_lines = []\n",
    "    replaced = False\n",
    "\n",
    "    for line in lines:\n",
    "        if line.strip().startswith(f\"{node_name} =\"):\n",
    "            updated_lines.append(new_logic + '\\n')\n",
    "            replaced = True\n",
    "        else:\n",
    "            updated_lines.append(line)\n",
    "\n",
    "    if not replaced:\n",
    "        raise ValueError(f\"Node '{node_name}' not found in the network.\")\n",
    "\n",
    "    # 파일 이름 구성\n",
    "    base_name = os.path.splitext(os.path.basename(input_file))[0]\n",
    "    output_file = f\"{base_name}_{node_name}_{state.upper()}.txt\"\n",
    "\n",
    "    with open(output_file, 'w') as f:\n",
    "        f.writelines(updated_lines)\n",
    "\n",
    "    print(f\"📄 Perturbed network saved to: {output_file}\")\n",
    "    return output_file"
   ]
  },
  {
   "cell_type": "code",
   "execution_count": 25,
   "id": "f20354aa",
   "metadata": {},
   "outputs": [
    {
     "name": "stdout",
     "output_type": "stream",
     "text": [
      "📄 Perturbed network saved to: grieco_JUN_OFF.txt\n"
     ]
    },
    {
     "data": {
      "text/plain": [
       "'grieco_JUN_OFF.txt'"
      ]
     },
     "execution_count": 25,
     "metadata": {},
     "output_type": "execute_result"
    }
   ],
   "source": [
    "perturb_network_and_save('networks/grieco.txt', 'JUN', state='OFF')"
   ]
  },
  {
   "cell_type": "code",
   "execution_count": 15,
   "id": "cbc771bf",
   "metadata": {},
   "outputs": [],
   "source": [
    "def update_attractor_state_verbose(original_state, input_file, node_name, state='ON'):\n",
    "    with open(input_file, 'r') as f:\n",
    "        lines = f.readlines()\n",
    "\n",
    "    # 노드 순서 추출\n",
    "    node_order = [line.split('=')[0].strip() for line in lines]\n",
    "\n",
    "    # 인덱스 확인\n",
    "    if node_name not in node_order:\n",
    "        raise ValueError(f\"Node '{node_name}' not found in the network.\")\n",
    "    \n",
    "    idx = node_order.index(node_name)\n",
    "\n",
    "    # 상태값 설정\n",
    "    state_value = '1' if state.upper() == 'ON' else '0'\n",
    "    updated_state = list(original_state)\n",
    "\n",
    "    if len(updated_state) != len(node_order):\n",
    "        raise ValueError(\"Length mismatch between attractor string and number of nodes.\")\n",
    "\n",
    "    # 변경 적용\n",
    "    old_value = updated_state[idx]\n",
    "    updated_state[idx] = state_value\n",
    "\n",
    "    # 출력\n",
    "    print(f\"{node_name}은(는) {idx}번째 노드이며, attractor 상태를 {old_value} → {state_value}로 변경했습니다.\")\n",
    "\n",
    "    return ''.join(updated_state)"
   ]
  },
  {
   "cell_type": "code",
   "execution_count": 17,
   "id": "0ad299e9",
   "metadata": {},
   "outputs": [
    {
     "name": "stdout",
     "output_type": "stream",
     "text": [
      "JUN은(는) 23번째 노드이며, attractor 상태를 1 → 0로 변경했습니다.\n",
      "01101010100100001011111011001111100110110110101111110\n"
     ]
    }
   ],
   "source": [
    "original_state = \"01101010100100001011111111001111100110110110101111110\"\n",
    "updated_state = update_attractor_state_verbose(original_state, 'networks/grieco.txt', 'JUN', state='OFF')\n",
    "print(updated_state)"
   ]
  },
  {
   "cell_type": "code",
   "execution_count": null,
   "id": "f99112ef",
   "metadata": {},
   "outputs": [],
   "source": [
    "01101010100100001011111111001111100110110110101111110\n",
    "01101010100100001011111011001111100110110110101111110"
   ]
  },
  {
   "cell_type": "code",
   "execution_count": null,
   "id": "e2b58ad9",
   "metadata": {},
   "outputs": [],
   "source": []
  },
  {
   "cell_type": "code",
   "execution_count": 29,
   "id": "8ce8e65c",
   "metadata": {},
   "outputs": [],
   "source": [
    "import os\n",
    "\n",
    "def full_perturbation_pipeline(network_path, original_state, mutated_node, mutated_state):\n",
    "    # 상태값 설정\n",
    "    if mutated_state.upper() == 'ON':\n",
    "        logic = f\"{mutated_node} = {mutated_node} or !{mutated_node}\"\n",
    "        state_bit = '1'\n",
    "    elif mutated_state.upper() == 'OFF':\n",
    "        logic = f\"{mutated_node} = {mutated_node} & !{mutated_node}\"\n",
    "        state_bit = '0'\n",
    "    else:\n",
    "        raise ValueError(\"mutated_state must be 'ON' or 'OFF'\")\n",
    "\n",
    "    # 원본 네트워크 불러오기\n",
    "    with open(network_path, 'r') as f:\n",
    "        lines = f.readlines()\n",
    "\n",
    "    node_order = [line.split('=')[0].strip() for line in lines]\n",
    "    if mutated_node not in node_order:\n",
    "        raise ValueError(f\"Node '{mutated_node}' not found in network.\")\n",
    "    idx = node_order.index(mutated_node)\n",
    "\n",
    "    # attractor 문자열 업데이트\n",
    "    updated_state = list(original_state)\n",
    "    old_val = updated_state[idx]\n",
    "    updated_state[idx] = state_bit\n",
    "    updated_state_str = ''.join(updated_state)\n",
    "    print(f\"📌 {mutated_node}은(는) {idx}번째 노드이며, attractor 상태를 {old_val} → {state_bit}로 변경했습니다.\")\n",
    "\n",
    "    # perturbed 네트워크 파일명 만들기\n",
    "    network_dir = os.path.dirname(network_path)\n",
    "    base_name = os.path.splitext(os.path.basename(network_path))[0]\n",
    "    perturbed_name = f\"{base_name}_{mutated_node}_{mutated_state.upper()}.txt\"\n",
    "    perturbed_path = os.path.join(network_dir, perturbed_name)\n",
    "\n",
    "    # perturbed 네트워크 저장\n",
    "    updated_lines = []\n",
    "    for line in lines:\n",
    "        if line.strip().startswith(f\"{mutated_node} =\"):\n",
    "            updated_lines.append(logic + '\\n')\n",
    "        else:\n",
    "            updated_lines.append(line)\n",
    "\n",
    "    with open(perturbed_path, 'w') as f:\n",
    "        f.writelines(updated_lines)\n",
    "    print(f\"📄 Perturbed network saved to: {perturbed_path}\")\n",
    "\n",
    "    # BNred.main에 넘겨줄 경로 확인용 문자열 출력\n",
    "    print(f\"\\n🔧 아래를 BNred.main()에 사용하세요:\")\n",
    "    print(f\"BNred.main(\\\"{perturbed_path}\\\", \\\"{updated_state_str}\\\")\")\n",
    "\n",
    "    # 결과 폴더 경로\n",
    "    parent_dir = os.path.dirname(network_dir)\n",
    "    result_folder = os.path.join(parent_dir, 'results', f\"{base_name}_{mutated_node}_{mutated_state.upper()}_{updated_state_str}\")\n",
    "    model_path = os.path.join(result_folder, \"OnePlusProductNet.txt\")\n",
    "\n",
    "    # 결과 파일 읽기\n",
    "    if not os.path.exists(model_path):\n",
    "        print(f\"❗ 아직 결과 파일이 없습니다: {model_path}\")\n",
    "        return None, updated_state_str, perturbed_path\n",
    "\n",
    "    with open(model_path, 'r') as f:\n",
    "        modeltext = f.read()\n",
    "\n",
    "    print(f\"📥 modeltext 로드 완료: {model_path}\")\n",
    "    return modeltext, updated_state_str, perturbed_path"
   ]
  },
  {
   "cell_type": "code",
   "execution_count": 30,
   "id": "33010082",
   "metadata": {},
   "outputs": [],
   "source": [
    "network = \"networks/grieco.txt\"\n",
    "attractor = \"01101010100100001011111111001111100110110110101111110\"\n",
    "node = \"JUN\"\n",
    "state = \"OFF\""
   ]
  },
  {
   "cell_type": "code",
   "execution_count": 31,
   "id": "f528da9c",
   "metadata": {},
   "outputs": [
    {
     "name": "stdout",
     "output_type": "stream",
     "text": [
      "📌 JUN은(는) 23번째 노드이며, attractor 상태를 1 → 0로 변경했습니다.\n",
      "📄 Perturbed network saved to: networks/grieco_JUN_OFF.txt\n",
      "\n",
      "🔧 아래를 BNred.main()에 사용하세요:\n",
      "BNred.main(\"networks/grieco_JUN_OFF.txt\", \"01101010100100001011111011001111100110110110101111110\")\n",
      "❗ 아직 결과 파일이 없습니다: results/grieco_JUN_OFF_01101010100100001011111011001111100110110110101111110/OnePlusProductNet.txt\n"
     ]
    }
   ],
   "source": [
    "\n",
    "modeltext, updated_state, perturbed_path = full_perturbation_pipeline(network, attractor, node, state)"
   ]
  },
  {
   "cell_type": "code",
   "execution_count": null,
   "id": "53cc4335",
   "metadata": {},
   "outputs": [],
   "source": []
  },
  {
   "cell_type": "code",
   "execution_count": 44,
   "id": "e43788d4",
   "metadata": {},
   "outputs": [],
   "source": [
    "import os\n",
    "\n",
    "def prepare_for_bnred(network_path, original_state, mutated_node, mutated_state):\n",
    "    if mutated_state.upper() == 'ON':\n",
    "        logic = f\"{mutated_node} = {mutated_node} or not {mutated_node}\"\n",
    "        state_bit = '1'\n",
    "    elif mutated_state.upper() == 'OFF':\n",
    "        logic = f\"{mutated_node} = {mutated_node} and not {mutated_node}\"\n",
    "        state_bit = '0'\n",
    "    else:\n",
    "        raise ValueError(\"mutated_state must be 'ON' or 'OFF'\")\n",
    "\n",
    "    with open(network_path, 'r') as f:\n",
    "        lines = f.readlines()\n",
    "\n",
    "    node_order = [line.split('=')[0].strip() for line in lines]\n",
    "    if mutated_node not in node_order:\n",
    "        raise ValueError(f\"Node '{mutated_node}' not found in network.\")\n",
    "    idx = node_order.index(mutated_node)\n",
    "\n",
    "    updated_state = list(original_state)\n",
    "    old_val = updated_state[idx]\n",
    "    updated_state[idx] = state_bit\n",
    "    updated_state_str = ''.join(updated_state)\n",
    "    print(f\"📌 {mutated_node}은(는) {idx}번째 노드이며, attractor 상태를 {old_val} → {state_bit}로 변경했습니다.\")\n",
    "\n",
    "    # 저장 경로 설정\n",
    "    network_dir = os.path.dirname(network_path)\n",
    "    base_name = os.path.splitext(os.path.basename(network_path))[0]\n",
    "    perturbed_name = f\"{base_name}_{mutated_node}_{mutated_state.upper()}.txt\"\n",
    "    perturbed_path = os.path.join(network_dir, perturbed_name)\n",
    "\n",
    "    updated_lines = []\n",
    "    for line in lines:\n",
    "        if line.strip().startswith(f\"{mutated_node} =\"):\n",
    "            updated_lines.append(logic + '\\n')\n",
    "        else:\n",
    "            updated_lines.append(line)\n",
    "\n",
    "    with open(perturbed_path, 'w') as f:\n",
    "        f.writelines(updated_lines)\n",
    "    print(f\"📄 Perturbed network saved to: {perturbed_path}\")\n",
    "\n",
    "    # BNred 실행 문자열 안내\n",
    "    print(f\"\\n🔧 아래를 BNred.main()에 사용하세요:\")\n",
    "    print(f\"BNred.main(\\\"{perturbed_path}\\\", \\\"{updated_state_str}\\\")\")\n",
    "\n",
    "    return perturbed_path, updated_state_str\n",
    "\n",
    "\n",
    "def load_modeltext_after_bnred(perturbed_path, updated_state_str):\n",
    "    base_name = os.path.splitext(os.path.basename(perturbed_path))[0]\n",
    "    parent_dir = os.path.dirname(os.path.dirname(perturbed_path))  # 상위 폴더\n",
    "    result_folder = os.path.join(parent_dir, 'results', f\"{base_name}_{updated_state_str}\")\n",
    "    model_path = os.path.join(result_folder, \"OnePlusProductNet.txt\")\n",
    "\n",
    "    if not os.path.exists(model_path):\n",
    "        raise FileNotFoundError(f\"❗ BNred 결과 파일이 없습니다: {model_path}\")\n",
    "\n",
    "    with open(model_path, 'r') as f:\n",
    "        modeltext = f.read()\n",
    "\n",
    "    print(f\"📥 modeltext 로드 완료: {model_path}\")\n",
    "    return modeltext"
   ]
  },
  {
   "cell_type": "code",
   "execution_count": 45,
   "id": "510b141f",
   "metadata": {},
   "outputs": [
    {
     "name": "stdout",
     "output_type": "stream",
     "text": [
      "📌 JUN은(는) 23번째 노드이며, attractor 상태를 1 → 0로 변경했습니다.\n",
      "📄 Perturbed network saved to: networks/grieco_JUN_OFF.txt\n",
      "\n",
      "🔧 아래를 BNred.main()에 사용하세요:\n",
      "BNred.main(\"networks/grieco_JUN_OFF.txt\", \"01101010100100001011111011001111100110110110101111110\")\n"
     ]
    },
    {
     "name": "stderr",
     "output_type": "stream",
     "text": [
      "100%|██████████████████████████████████████████| 53/53 [00:00<00:00, 482.39it/s]"
     ]
    },
    {
     "name": "stdout",
     "output_type": "stream",
     "text": [
      "AKT = PTEN | ~PDK1\n",
      "AP1 = (ATF2 & ~JUN) | (~FOS & ~JUN)\n",
      "ATF2 = JNK | p38\n",
      "ATM = DNA_damage\n",
      "Apoptosis = BCL2 & ERK & FOXO3 & p53\n",
      "BCL2 = AKT | ~CREB\n",
      "CREB = MSK\n",
      "DNA_damage = DNA_damage\n",
      "DUSP1 = CREB\n",
      "EGFR = GRB2 | ~PKC | (EGFR_stimulus & SPRY)\n",
      "EGFR_stimulus = EGFR_stimulus\n",
      "ELK1 = JNK | p38 | ~ERK\n",
      "ERK = MEK1_2\n",
      "FGFR3 = FGFR3_stimulus | GRB2 | ~PKC\n",
      "FGFR3_stimulus = FGFR3_stimulus\n",
      "FOS = ERK | RSK | (~CREB & ~ELK1)\n",
      "FOXO3 = AKT & JNK\n",
      "FRS2 = FGFR3 | GRB2 | ~SPRY\n",
      "GAB1 = GRB2 | PI3K\n",
      "GADD45 = SMAD | p53\n",
      "GRB2 = TGFBR | ~EGFR | ~FRS2\n",
      "Growth_Arrest = p21\n",
      "JNK = (MAP3K1_3 & MTK1) | (MAP3K1_3 & TAK1) | (MTK1 & TAK1) | (MAP3K1_3 & ~DUSP1) | (MAP3K1_3 & ~TAOK) | (MTK1 & ~DUSP1) | (MTK1 & ~TAOK) | (TAK1 & ~DUSP1) | (TAK1 & ~TAOK) | (~DUSP1 & ~TAOK)\n",
      "JUN = True\n",
      "MAP3K1_3 = RAS\n",
      "MAX = p38\n",
      "MDM2 = p14 | (AKT & ~p53)\n",
      "MEK1_2 = AP1 | PPP2CA | (~MAP3K1_3 & ~RAF)\n",
      "MSK = p38 | ~ERK\n",
      "MTK1 = GADD45\n",
      "MYC = (MAX & MSK) | (MSK & ~AKT)\n",
      "PDK1 = PI3K\n",
      "PI3K = GAB1 | (RAS & SOS)\n",
      "PKC = PLCG\n",
      "PLCG = EGFR & FGFR3\n",
      "PPP2CA = p38\n",
      "PTEN = p53\n",
      "Proliferation = p21 | p70 | ~MYC\n",
      "RAF = (AKT & ERK & RAS) | (AKT & ERK & ~PKC)\n",
      "RAS = SOS | ~PLCG\n",
      "RSK = ERK\n",
      "SMAD = TGFBR\n",
      "SOS = GRB2 & RSK\n",
      "SPRY = ERK\n",
      "TAK1 = TGFBR\n",
      "TAOK = ATM\n",
      "TGFBR = TGFBR_stimulus\n",
      "TGFBR_stimulus = TGFBR_stimulus\n",
      "p14 = MYC\n",
      "p21 = AKT & p53\n",
      "p38 = (MAP3K1_3 & MTK1) | (MAP3K1_3 & TAK1) | (MTK1 & TAK1) | (MAP3K1_3 & ~DUSP1) | (MAP3K1_3 & ~TAOK) | (MTK1 & ~DUSP1) | (MTK1 & ~TAOK) | (TAK1 & ~DUSP1) | (TAK1 & ~TAOK) | (~DUSP1 & ~TAOK)\n",
      "p53 = (MDM2 & p38) | (MDM2 & ~ATM) | (p38 & ~ATM)\n",
      "p70 = ERK | ~PDK1\n",
      ".txt files with the reduced network is saved.\n",
      "Total time for reducing the network: 0.11466407775878906 sec\n",
      "Complete!\n",
      "📥 modeltext 로드 완료: results/grieco_JUN_OFF_01101010100100001011111011001111100110110110101111110/OnePlusProductNet.txt\n"
     ]
    },
    {
     "name": "stderr",
     "output_type": "stream",
     "text": [
      "\n"
     ]
    }
   ],
   "source": [
    "# Step 1: 네트워크 준비 및 안내 출력\n",
    "network = \"networks/grieco.txt\"\n",
    "attractor = \"01101010100100001011111111001111100110110110101111110\"\n",
    "node = \"JUN\"\n",
    "state = \"OFF\"\n",
    "\n",
    "perturbed_path, updated_state = prepare_for_bnred(network, attractor, node, state)\n",
    "\n",
    "# 👇 이 사이에 BNred.main(...) 직접 실행할 것!\n",
    "BNred.main(perturbed_path, updated_state)\n",
    "\n",
    "# Step 2: BNred 결과 로딩\n",
    "modeltext = load_modeltext_after_bnred(perturbed_path, updated_state)"
   ]
  },
  {
   "cell_type": "code",
   "execution_count": 47,
   "id": "bd173cd3",
   "metadata": {},
   "outputs": [],
   "source": [
    "modeltext = modeltext.replace(\"=\", \"*=\").replace(\" & \", \" and \").replace(\" | \", \" or \").replace(\"~ \", \"not \")\n",
    "modeltext = modeltext.strip()"
   ]
  },
  {
   "cell_type": "code",
   "execution_count": 48,
   "id": "f99848d3",
   "metadata": {},
   "outputs": [
    {
     "data": {
      "text/plain": [
       "'AKT *= PTEN\\nAP1 *= \\nATF2 *= JNK\\nATM *= DNA_damage\\nApoptosis *= BCL2 and ERK and FOXO3 and p53\\nBCL2 *= AKT\\nCREB *= MSK\\nDNA_damage *= DNA_damage\\nDUSP1 *= CREB\\nEGFR *= GRB2\\nEGFR_stimulus *= EGFR_stimulus\\nELK1 *= JNK\\nERK *= MEK1_2\\nFGFR3 *= FGFR3_stimulus\\nFGFR3_stimulus *= FGFR3_stimulus\\nFOS *= ERK\\nFOXO3 *= AKT and JNK\\nFRS2 *= FGFR3\\nGAB1 *= GRB2\\nGADD45 *= SMAD\\nGRB2 *= TGFBR\\nGrowth_Arrest *= p21\\nJNK *= (MAP3K1_3 and MTK1)\\nJUN *= True\\nMAP3K1_3 *= RAS\\nMAX *= p38\\nMDM2 *= p14\\nMEK1_2 *= AP1\\nMSK *= p38\\nMTK1 *= GADD45\\nMYC *= (MAX and MSK)\\nPDK1 *= PI3K\\nPI3K *= GAB1\\nPKC *= PLCG\\nPLCG *= EGFR and FGFR3\\nPPP2CA *= p38\\nPTEN *= p53\\nProliferation *= p21\\nRAF *= (AKT and ERK and RAS)\\nRAS *= SOS\\nRSK *= ERK\\nSMAD *= TGFBR\\nSOS *= GRB2 and RSK\\nSPRY *= ERK\\nTAK1 *= TGFBR\\nTAOK *= ATM\\nTGFBR *= TGFBR_stimulus\\nTGFBR_stimulus *= TGFBR_stimulus\\np14 *= MYC\\np21 *= AKT and p53\\np38 *= (MAP3K1_3 and MTK1)\\np53 *= (MDM2 and p38)\\np70 *= ERK'"
      ]
     },
     "execution_count": 48,
     "metadata": {},
     "output_type": "execute_result"
    }
   ],
   "source": [
    "modeltext"
   ]
  },
  {
   "cell_type": "code",
   "execution_count": 49,
   "id": "dcf93f91",
   "metadata": {},
   "outputs": [
    {
     "ename": "SyntaxError",
     "evalue": "unexpected EOF while parsing (<string>, line 1)",
     "output_type": "error",
     "traceback": [
      "Traceback \u001b[0;36m(most recent call last)\u001b[0m:\n",
      "  File \u001b[1;32m\"/home/shjang/anaconda3/envs/iqcell/lib/python3.7/site-packages/IPython/core/interactiveshell.py\"\u001b[0m, line \u001b[1;32m3553\u001b[0m, in \u001b[1;35mrun_code\u001b[0m\n    exec(code_obj, self.user_global_ns, self.user_ns)\n",
      "  File \u001b[1;32m\"/tmp/ipykernel_476538/2836732066.py\"\u001b[0m, line \u001b[1;32m2\u001b[0m, in \u001b[1;35m<module>\u001b[0m\n    examNet = cana.boolean_network.BooleanNetwork.from_string_boolean(modeltext)\n",
      "  File \u001b[1;32m\"/home/shjang/anaconda3/envs/iqcell/lib/python3.7/site-packages/cana/boolean_network.py\"\u001b[0m, line \u001b[1;32m318\u001b[0m, in \u001b[1;35mfrom_string_boolean\u001b[0m\n    logic[i][\"out\"] = output_transitions(eval_line, input_names)\n",
      "\u001b[0;36m  File \u001b[0;32m\"/home/shjang/anaconda3/envs/iqcell/lib/python3.7/site-packages/cana/utils.py\"\u001b[0;36m, line \u001b[0;32m183\u001b[0;36m, in \u001b[0;35moutput_transitions\u001b[0;36m\u001b[0m\n\u001b[0;31m    output_list.append(int(eval(eval_line)))\u001b[0m\n",
      "\u001b[0;36m  File \u001b[0;32m\"<string>\"\u001b[0;36m, line \u001b[0;32m1\u001b[0m\n\u001b[0;31m    \u001b[0m\n\u001b[0m    ^\u001b[0m\n\u001b[0;31mSyntaxError\u001b[0m\u001b[0;31m:\u001b[0m unexpected EOF while parsing\n"
     ]
    }
   ],
   "source": [
    "\n",
    "startTime = time.time()\n",
    "examNet = cana.boolean_network.BooleanNetwork.from_string_boolean(modeltext)\n",
    "#print(examNet)\n",
    "\n",
    "# Mapping nodes\n",
    "mappindDic = {}\n",
    "for node in examNet.nodes:\n",
    "    mappindDic[node.id] = node.name\n",
    "#print(mappindDic)\n",
    "\n",
    "\n",
    "\n",
    "# FVSs\n",
    "FVS_bruteforce = examNet.feedback_vertex_set_driver_nodes(graph='structural', method='bruteforce', max_search=10, keep_self_loops=True) # brutuforce\n",
    "#print(FVS_bruteforce)\n",
    "FVS_listList = []\n",
    "for FVS in FVS_bruteforce:\n",
    "    FVS_list = []\n",
    "    for node in FVS:\n",
    "        FVS_list.append(mappindDic[node])\n",
    "    FVS_listList.append(FVS_list)\n",
    "print(FVS_listList)\n",
    "endTime = time.time() - startTime\n",
    "#print(endTime)"
   ]
  },
  {
   "cell_type": "code",
   "execution_count": null,
   "id": "ef53e61f",
   "metadata": {},
   "outputs": [],
   "source": []
  }
 ],
 "metadata": {
  "kernelspec": {
   "display_name": "Python 3 (ipykernel)",
   "language": "python",
   "name": "python3"
  },
  "language_info": {
   "codemirror_mode": {
    "name": "ipython",
    "version": 3
   },
   "file_extension": ".py",
   "mimetype": "text/x-python",
   "name": "python",
   "nbconvert_exporter": "python",
   "pygments_lexer": "ipython3",
   "version": "3.7.3"
  }
 },
 "nbformat": 4,
 "nbformat_minor": 5
}
